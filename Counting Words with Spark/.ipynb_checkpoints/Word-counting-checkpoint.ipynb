{
 "cells": [
  {
   "cell_type": "markdown",
   "metadata": {},
   "source": [
    "# Word Counting with Spark\n",
    "\n",
    "We start the notebook by explaining the difference between map() and flatMap().\n",
    "\n",
    "* map: let’s you take a set a data and transform it into another set of data given a function. Ex: if you wanted to square all the numbers in an RDD, you can use map. You keep the same amount of values in your RDDs. Ex: rdd.map(lambda x: x*x)\n",
    "\n",
    "* flatmap: Similar to “map”, but it let’s you produce multiple values from the original RDD values. The RDD you produce can be smaller or bigger than the original RDD.\n",
    "\n",
    "With map(), we can make all elements go through the same function. For example, we can make every word in a sentence capitalized with:\n",
    "\n",
    "*rdd = lines.map(lambda x: x.upper())*\n",
    "\n",
    "With flatMap(), we can create new elements from each element in the RDD. For example, each word in a line in the RDD can become a new element with:\n",
    "\n",
    "*rdd = lines.flatMap(lambda x: x.split())*"
   ]
  },
  {
   "cell_type": "code",
   "execution_count": null,
   "metadata": {
    "collapsed": true
   },
   "outputs": [],
   "source": []
  }
 ],
 "metadata": {
  "kernelspec": {
   "display_name": "Python [default]",
   "language": "python",
   "name": "python3"
  },
  "language_info": {
   "codemirror_mode": {
    "name": "ipython",
    "version": 3
   },
   "file_extension": ".py",
   "mimetype": "text/x-python",
   "name": "python",
   "nbconvert_exporter": "python",
   "pygments_lexer": "ipython3",
   "version": "3.6.3"
  }
 },
 "nbformat": 4,
 "nbformat_minor": 2
}
