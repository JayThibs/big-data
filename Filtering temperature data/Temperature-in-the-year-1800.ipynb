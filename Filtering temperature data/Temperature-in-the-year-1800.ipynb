{
 "cells": [
  {
   "cell_type": "markdown",
   "metadata": {},
   "source": [
    "# What is the minimum and maximum temperature in each station in the year 1800\n",
    "\n",
    "This notebook is primarily used to study how to filter RDDs. We'll filter out each line that doesn't have TMIN to get all the minimum temperatures and TMAX for all the maximum temperatures throughout the year."
   ]
  },
  {
   "cell_type": "code",
   "execution_count": 23,
   "metadata": {},
   "outputs": [],
   "source": [
    "def parseLine(line):\n",
    "    fields = line.split(',')\n",
    "    stationID = fields[0]\n",
    "    entryType = fields[2]\n",
    "    temperature = float(fields[3]) * 0.1 # celsius\n",
    "    return (stationID, entryType, temperature)\n",
    "    \n",
    "lines = sc.textFile('/Users/jacquesthibodeau/big-data-datasets/1800.csv')\n",
    "parsedLines = lines.map(parseLine)\n",
    "minTemps = parsedLines.filter(lambda x: 'TMIN' in x[1])\n",
    "stationTemps = minTemps.map(lambda x: (x[0], x[2])) # (stationId, MinTemp)"
   ]
  },
  {
   "cell_type": "markdown",
   "metadata": {},
   "source": [
    "For the minimum temperature for each weather station in the year 1800:"
   ]
  },
  {
   "cell_type": "code",
   "execution_count": 24,
   "metadata": {},
   "outputs": [
    {
     "name": "stdout",
     "output_type": "stream",
     "text": [
      "ITE00100554\t-14.80 °C\n",
      "EZE00100082\t-13.50 °C\n"
     ]
    }
   ],
   "source": [
    "minTemps = stationTemps.reduceByKey(lambda x, y: min(x, y))\n",
    "results = minTemps.collect()\n",
    "for result in results:\n",
    "    print(result[0] + \"\\t{:.2f} °C\".format(result[1]))"
   ]
  },
  {
   "cell_type": "markdown",
   "metadata": {},
   "source": [
    "For the maximum temperature for each weather station in the year 1800:"
   ]
  },
  {
   "cell_type": "code",
   "execution_count": 25,
   "metadata": {},
   "outputs": [
    {
     "name": "stdout",
     "output_type": "stream",
     "text": [
      "ITE00100554\t32.30 °C\n",
      "EZE00100082\t32.30 °C\n"
     ]
    }
   ],
   "source": [
    "maxTemps = parsedLines.filter(lambda x: 'TMAX' in x[1])\n",
    "stationTemps = maxTemps.map(lambda x: (x[0], x[2])) # (stationId, MaxTemp)\n",
    "maxTemps = stationTemps.reduceByKey(lambda x, y: max(x, y))\n",
    "results = maxTemps.collect()\n",
    "for result in results:\n",
    "    print(result[0] + \"\\t{:.2f} °C\".format(result[1]))"
   ]
  },
  {
   "cell_type": "code",
   "execution_count": null,
   "metadata": {
    "collapsed": true
   },
   "outputs": [],
   "source": []
  }
 ],
 "metadata": {
  "kernelspec": {
   "display_name": "Python [default]",
   "language": "python",
   "name": "python3"
  },
  "language_info": {
   "codemirror_mode": {
    "name": "ipython",
    "version": 3
   },
   "file_extension": ".py",
   "mimetype": "text/x-python",
   "name": "python",
   "nbconvert_exporter": "python",
   "pygments_lexer": "ipython3",
   "version": "3.6.3"
  }
 },
 "nbformat": 4,
 "nbformat_minor": 2
}
