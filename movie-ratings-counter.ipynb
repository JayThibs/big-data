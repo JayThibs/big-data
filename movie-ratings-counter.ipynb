{
 "cells": [
  {
   "cell_type": "markdown",
   "metadata": {},
   "source": [
    "# Movie Ratings Dataset with Spark\n",
    "\n",
    "We'll be building a recommender system using Spark. This notebook will start by doing basic things like counting the number of ratings for each rating category (1 star, 2 stars, 3 stars, etc.) to something more complex like a recommender system.\n",
    "\n",
    "The dataset we are working with can be found here: https://grouplens.org/datasets/movielens/\n",
    "\n",
    "We'll start by using the MovieLens 100K dataset which contains 100,000 ratings from 1000 users on 1700 movies.\n",
    "\n",
    "## Part 1: Counting the number of ratings for star category"
   ]
  },
  {
   "cell_type": "code",
   "execution_count": 1,
   "metadata": {},
   "outputs": [
    {
     "name": "stdout",
     "output_type": "stream",
     "text": [
      "1 6110\n",
      "2 11370\n",
      "3 27145\n",
      "4 34174\n",
      "5 21201\n"
     ]
    }
   ],
   "source": [
    "import collections\n",
    "\n",
    "lines = sc.textFile(\"/Users/jacquesthibodeau/big-data-datasets/ml-100k/u.data\")\n",
    "ratings = lines.map(lambda x: x.split()[2])\n",
    "result = ratings.countByValue()\n",
    "\n",
    "sortedResults = collections.OrderedDict(sorted(result.items()))\n",
    "for key, value in sortedResults.items():\n",
    "    print(\"%s %i\" % (key, value))"
   ]
  },
  {
   "cell_type": "code",
   "execution_count": null,
   "metadata": {
    "collapsed": true
   },
   "outputs": [],
   "source": []
  }
 ],
 "metadata": {
  "kernelspec": {
   "display_name": "Python [default]",
   "language": "python",
   "name": "python3"
  },
  "language_info": {
   "codemirror_mode": {
    "name": "ipython",
    "version": 3
   },
   "file_extension": ".py",
   "mimetype": "text/x-python",
   "name": "python",
   "nbconvert_exporter": "python",
   "pygments_lexer": "ipython3",
   "version": "3.6.3"
  }
 },
 "nbformat": 4,
 "nbformat_minor": 2
}
