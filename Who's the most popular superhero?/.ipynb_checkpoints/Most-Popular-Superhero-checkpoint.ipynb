{
 "cells": [
  {
   "cell_type": "markdown",
   "metadata": {},
   "source": [
    "# Who's the most popular superhero?\n",
    "\n",
    "When I say 'popular', I don't mean popular among comic readers. What we are defining as popularity is that how many times a certain character appears in another superhero's comic. We'll imagine that if, for example, spiderman appears in a comic with Captain America, that means they are friends. So, the superhero with the most friends (appears with the most other characters) will be considered the most 'popular'.\n",
    "\n"
   ]
  }
 ],
 "metadata": {
  "kernelspec": {
   "display_name": "Python [default]",
   "language": "python",
   "name": "python3"
  },
  "language_info": {
   "codemirror_mode": {
    "name": "ipython",
    "version": 3
   },
   "file_extension": ".py",
   "mimetype": "text/x-python",
   "name": "python",
   "nbconvert_exporter": "python",
   "pygments_lexer": "ipython3",
   "version": "3.6.3"
  }
 },
 "nbformat": 4,
 "nbformat_minor": 2
}
