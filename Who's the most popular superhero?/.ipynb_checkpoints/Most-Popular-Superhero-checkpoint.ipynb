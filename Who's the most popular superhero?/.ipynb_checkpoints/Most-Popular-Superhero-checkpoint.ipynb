{
 "cells": [
  {
   "cell_type": "markdown",
   "metadata": {},
   "source": [
    "# Who's the most popular superhero?\n",
    "\n",
    "When I say 'popular', I don't mean popular among comic readers. What we are defining as popularity is that how many times a certain character appears in another superhero's comic. We'll imagine that if, for example, spiderman appears in a comic with Captain America, that means they are friends. So, the superhero with the most friends (appears with the most other superheros) will be considered the most 'popular'.\n",
    "\n",
    "We'll be using two different files: \n",
    "\n",
    "* Marvel-Graph.txt: each line contains firstly the superhero's ID and then all the superheros he/she has appeared with in other comic books\n",
    "* Marvel-Names.txt: contains the ID and name of every superhero."
   ]
  },
  {
   "cell_type": "code",
   "execution_count": 8,
   "metadata": {},
   "outputs": [
    {
     "name": "stdout",
     "output_type": "stream",
     "text": [
      "b'CAPTAIN AMERICA' is the most popular superhero, with 1933 co-appearances.\n"
     ]
    }
   ],
   "source": [
    "def countCoOccurences(line):\n",
    "    elements = line.split()\n",
    "    return (int(elements[0]), len(elements) - 1)\n",
    "\n",
    "def parseNames(line):\n",
    "    fields = line.split('\\\"')\n",
    "    return (int(fields[0]), fields[1].encode(\"utf8\"))\n",
    "    \n",
    "\n",
    "names = sc.textFile('/Users/jacquesthibodeau/big-data-datasets/Marvel-Names.txt')\n",
    "namesRDD = names.map(parseNames)\n",
    "\n",
    "lines = sc.textFile('/Users/jacquesthibodeau/big-data-datasets/Marvel-Graph.txt')\n",
    "pairings = lines.map(countCoOccurences)\n",
    "\n",
    "totalFriendsByCharacter = pairings.reduceByKey(lambda x, y : x + y)\n",
    "flipped = totalFriendsByCharacter.map(lambda x : (x[1], x[0]))\n",
    "\n",
    "mostPopularHeroID = flipped.max()\n",
    "\n",
    "mostPopularHeroName = namesRDD.lookup(mostPopularHeroID[1])[0]\n",
    "\n",
    "print(str(mostPopularHeroName) + \" is the most popular superhero, with \" + \\\n",
    "     str(mostPopularHeroID[0]) + \" co-appearances.\")"
   ]
  },
  {
   "cell_type": "code",
   "execution_count": null,
   "metadata": {
    "collapsed": true
   },
   "outputs": [],
   "source": []
  }
 ],
 "metadata": {
  "kernelspec": {
   "display_name": "Python [default]",
   "language": "python",
   "name": "python3"
  }
 },
 "nbformat": 4,
 "nbformat_minor": 2
}
