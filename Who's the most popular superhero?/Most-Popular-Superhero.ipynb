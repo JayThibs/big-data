{
 "cells": [
  {
   "cell_type": "markdown",
   "metadata": {},
   "source": [
    "# Who's the most popular superhero?\n",
    "\n",
    "When I say 'popular', I don't mean popular among comic readers. What we are defining as popularity is that how many times a certain character appears in another superhero's comic. We'll imagine that if, for example, spiderman appears in a comic with Captain America, that means they are friends. So, the superhero with the most friends (appears with the most other superheroes) will be considered the most 'popular'.\n",
    "\n",
    "We'll be using two different files: \n",
    "\n",
    "* Marvel-Graph.txt: each line contains firstly the superhero's ID and then all the superheroes he/she has appeared with in other comic books\n",
    "* Marvel-Names.txt: contains the ID and name of every superhero."
   ]
  },
  {
   "cell_type": "code",
   "execution_count": 8,
   "metadata": {},
   "outputs": [
    {
     "name": "stdout",
     "output_type": "stream",
     "text": [
      "b'CAPTAIN AMERICA' is the most popular superhero, with 1933 co-appearances.\n"
     ]
    }
   ],
   "source": [
    "def countCoOccurences(line):\n",
    "    elements = line.split()\n",
    "    return (int(elements[0]), len(elements) - 1)\n",
    "\n",
    "def parseNames(line):\n",
    "    fields = line.split('\\\"')\n",
    "    return (int(fields[0]), fields[1].encode(\"utf8\"))\n",
    "    \n",
    "\n",
    "names = sc.textFile('/Users/jacquesthibodeau/big-data-datasets/Marvel-Names.txt')\n",
    "namesRDD = names.map(parseNames)\n",
    "\n",
    "lines = sc.textFile('/Users/jacquesthibodeau/big-data-datasets/Marvel-Graph.txt')\n",
    "pairings = lines.map(countCoOccurences)\n",
    "\n",
    "totalFriendsByCharacter = pairings.reduceByKey(lambda x, y : x + y)\n",
    "flipped = totalFriendsByCharacter.map(lambda x : (x[1], x[0]))\n",
    "\n",
    "mostPopularHeroID = flipped.max()\n",
    "\n",
    "mostPopularHeroName = namesRDD.lookup(mostPopularHeroID[1])[0]\n",
    "\n",
    "print(str(mostPopularHeroName) + \" is the most popular superhero, with \" + \\\n",
    "     str(mostPopularHeroID[0]) + \" co-appearances.\")"
   ]
  },
  {
   "cell_type": "markdown",
   "metadata": {},
   "source": [
    "There we have it, Captain America is the most popular superhero.\n",
    "\n",
    "---\n",
    "\n",
    "Now, we will use Breadth First Search (BFS) in order to figure out the degrees of seperation between superheroes."
   ]
  },
  {
   "cell_type": "code",
   "execution_count": null,
   "metadata": {
    "collapsed": true
   },
   "outputs": [],
   "source": [
    "# The characters we wish to find the degree of seperation between:\n",
    "startCharacterID = 5306\n",
    "targetCharacterID = 14\n",
    "\n",
    "# We use what is called an accumulator. It signals us when we have\n",
    "# found the target we are looking for during out BFS traversal.\n",
    "hitCounter = sc.accumulator(0)\n",
    "\n",
    "def convertToBFS(line):\n",
    "    fields = line.split()\n",
    "    heroID = int(fields[0])\n",
    "    connections = []\n",
    "    for connection in fields[1:]:\n",
    "        connections.append(int(connection))\n",
    "    \n",
    "    # initial conditions for BFS\n",
    "    color = 'WHITE'\n",
    "    distance = 9999\n",
    "    \n",
    "    if (heroID == startSuperheroID):\n",
    "        color = 'GRAY'\n",
    "        distance = 0\n",
    "    \n",
    "    return (heroID, (connections, distance, color)) # key/value pair\n",
    "\n",
    "def createStartingRDD():\n",
    "    inputFile = sc.textFile('/Users/jacquesthibodeau/big-data-datasets/Marvel-Graph.txt')\n",
    "    return inputFile.map(convertToBFS)\n",
    "\n",
    "def bfsMap(node):\n",
    "    characterID = node[0]\n",
    "    data = node[1]\n",
    "    connections = data[0]\n",
    "    distance = data[1]\n",
    "    color = data[2]\n",
    "    \n",
    "    results = []\n",
    "    \n",
    "    # If this node needs to be expanded...\n",
    "    if (color == 'GRAY'):\n",
    "        for connection in connections:\n",
    "            newCharacterID = connection\n",
    "            newDistance = distance + 1\n",
    "            newColor = 'GRAY'\n",
    "            if (targetCharacterID == connection):\n",
    "                hitCounter.add(1)\n",
    "                \n",
    "            newEntry = (newCharacterID, ([], newDistance, newColor))\n",
    "            results.append(newEntry)\n",
    "            \n",
    "        # We've processed this node, so we color it black\n",
    "        color = 'BLACK'\n",
    "        \n",
    "    # Emit the input node so we don't lost it.\n",
    "    results.append(characterID, (connections, distance, color))\n",
    "    return results\n",
    "\n",
    "def bfsReduce(data1, data2):\n",
    "    \n",
    "\n",
    "for iteration in range(0, 10):\n",
    "    print(\"Running BFS iteration# \" + str(iteration+1))\n",
    "    \n",
    "    # Create new vertices as needed to darken or reduce distances in the\n",
    "    # reduce stage. If we encounter the node we're looking for as a GRAY\n",
    "    # node, increment our accumulator to signal that we're done.\n",
    "    mapped = flatMap(bfsMap)\n",
    "    \n",
    "    # Note that mapped.count() action here forces the RDD to be evaluated, \n",
    "    # and that's the only reason out accumulator is actually updated.\n",
    "    print(\"Processing \" + str(mapped.count()) + \" values.\")\n",
    "    \n",
    "    if (hitCounter.value > 0):\n",
    "        print(\"Hit the target character! From \" + str(hitCounter.value) \\\n",
    "             + \"different direction(s)\")\n",
    "        break\n",
    "    \n",
    "\n",
    "pairingsBFS = lines.map(convertToBFS)"
   ]
  }
 ],
 "metadata": {
  "kernelspec": {
   "display_name": "Python [default]",
   "language": "python",
   "name": "python3"
  }
 },
 "nbformat": 4,
 "nbformat_minor": 2
}
